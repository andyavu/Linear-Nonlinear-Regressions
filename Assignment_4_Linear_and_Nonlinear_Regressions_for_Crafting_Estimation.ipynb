{
  "nbformat": 4,
  "nbformat_minor": 0,
  "metadata": {
    "kernelspec": {
      "display_name": "Python 3",
      "language": "python",
      "name": "python3"
    },
    "language_info": {
      "codemirror_mode": {
        "name": "ipython",
        "version": 3
      },
      "file_extension": ".py",
      "mimetype": "text/x-python",
      "name": "python",
      "nbconvert_exporter": "python",
      "pygments_lexer": "ipython3",
      "version": "3.7.0"
    },
    "colab": {
      "name": "Assignment 4 -- Linear and Nonlinear Regressions for Crafting Estimation",
      "provenance": [],
      "collapsed_sections": [],
      "include_colab_link": true
    },
    "accelerator": "GPU"
  },
  "cells": [
    {
      "cell_type": "markdown",
      "metadata": {
        "id": "view-in-github",
        "colab_type": "text"
      },
      "source": [
        "<a href=\"https://colab.research.google.com/github/andyavu/Linear-Nonlinear-Regressions/blob/main/Assignment_4_Linear_and_Nonlinear_Regressions_for_Crafting_Estimation.ipynb\" target=\"_parent\"><img src=\"https://colab.research.google.com/assets/colab-badge.svg\" alt=\"Open In Colab\"/></a>"
      ]
    },
    {
      "cell_type": "markdown",
      "metadata": {
        "id": "Nh90eB6nC9l2"
      },
      "source": [
        "Andy Vu - 012264447 - Section 2"
      ]
    },
    {
      "cell_type": "markdown",
      "metadata": {
        "id": "8Z1V7C7KstdU"
      },
      "source": [
        "**Crafting Time Estimation**\n",
        "\n",
        "In this assignment, we will be using regressions, of both the linear and non-linear persuasions.  We will be using these to create estimates in the amount of time required to get from a given crafting state to another crafting state, i.e. to produce a heuristic cost for the planning done in homework 2.  \n",
        "\n",
        "\n",
        "We will be constructing the following models:\n",
        "\n",
        "1. A linear regression solved via raw matrix operations, as discussed in class\n",
        "2. A linear regression solved via numpy's library\n",
        "3. A linear regression solved via Stochastic Gradient Descent with an artificial neural network\n",
        "4. A linear regression using a deep artificial neural network\n",
        "5. A non-linear regression using a deep artificial neural network\n",
        "\n",
        "Finally, the non-linear regression will be used as the heuristic in an A* search of the planning space "
      ]
    },
    {
      "cell_type": "markdown",
      "metadata": {
        "id": "Jb1Acg0nstdV"
      },
      "source": [
        "Our first step is to read the data in a form that is conducive for regression.  The data is a CSV file where the first row are the names of each column.  "
      ]
    },
    {
      "cell_type": "code",
      "metadata": {
        "id": "NNUzFiOpsvM7",
        "colab": {
          "base_uri": "https://localhost:8080/"
        },
        "outputId": "6b8276a9-38d5-4293-9c54-2a850b32e60d"
      },
      "source": [
        "!wget https://raw.githubusercontent.com/adamsumm/AI_Minecraft_Assignments/master/CraftingRegressionEstimation/crafting_times.csv"
      ],
      "execution_count": null,
      "outputs": [
        {
          "output_type": "stream",
          "text": [
            "--2020-11-26 03:20:05--  https://raw.githubusercontent.com/adamsumm/AI_Minecraft_Assignments/master/CraftingRegressionEstimation/crafting_times.csv\n",
            "Resolving raw.githubusercontent.com (raw.githubusercontent.com)... 151.101.0.133, 151.101.64.133, 151.101.128.133, ...\n",
            "Connecting to raw.githubusercontent.com (raw.githubusercontent.com)|151.101.0.133|:443... connected.\n",
            "HTTP request sent, awaiting response... 200 OK\n",
            "Length: 2128878 (2.0M) [text/plain]\n",
            "Saving to: ‘crafting_times.csv.1’\n",
            "\n",
            "\rcrafting_times.csv.   0%[                    ]       0  --.-KB/s               \rcrafting_times.csv. 100%[===================>]   2.03M  --.-KB/s    in 0.03s   \n",
            "\n",
            "2020-11-26 03:20:05 (60.5 MB/s) - ‘crafting_times.csv.1’ saved [2128878/2128878]\n",
            "\n"
          ],
          "name": "stdout"
        }
      ]
    },
    {
      "cell_type": "code",
      "metadata": {
        "id": "8uXNwf_XstdV",
        "colab": {
          "base_uri": "https://localhost:8080/"
        },
        "outputId": "dc136208-02e0-4804-c448-e378769d0afa"
      },
      "source": [
        "import numpy as np\n",
        "#Open the file\n",
        "with open('crafting_times.csv','r') as infile:\n",
        "    #Get the header line\n",
        "    header = infile.readline().rstrip().split(',')\n",
        "    data = []\n",
        "    #Read it in\n",
        "    for line in infile:\n",
        "        data.append([float(s) for s in line.rstrip().split(',')])\n",
        "    #turn our list of lists into a numpy array\n",
        "    data = np.array(data)\n",
        "    \n",
        "print('\\n'.join(header))\n",
        "print(data.shape)"
      ],
      "execution_count": null,
      "outputs": [
        {
          "output_type": "stream",
          "text": [
            "time\n",
            "initial_bench\n",
            "initial_cart\n",
            "initial_coal\n",
            "initial_cobble\n",
            "initial_furnace\n",
            "initial_ingot\n",
            "initial_iron_axe\n",
            "initial_iron_pickaxe\n",
            "initial_ore\n",
            "initial_plank\n",
            "initial_rail\n",
            "initial_stick\n",
            "initial_stone_axe\n",
            "initial_stone_pickaxe\n",
            "initial_wood\n",
            "initial_wooden_axe\n",
            "initial_wooden_pickaxe\n",
            "goal_bench\n",
            "goal_cart\n",
            "goal_coal\n",
            "goal_cobble\n",
            "goal_furnace\n",
            "goal_ingot\n",
            "goal_iron_axe\n",
            "goal_iron_pickaxe\n",
            "goal_ore\n",
            "goal_plank\n",
            "goal_rail\n",
            "goal_stick\n",
            "goal_stone_axe\n",
            "goal_stone_pickaxe\n",
            "goal_wood\n",
            "goal_wooden_axe\n",
            "goal_wooden_pickaxe\n",
            "(30000, 35)\n"
          ],
          "name": "stdout"
        }
      ]
    },
    {
      "cell_type": "markdown",
      "metadata": {
        "id": "fWJ6znOEstdY"
      },
      "source": [
        "We see that the columns are: \n",
        "0 -- The time it takes\n",
        "1-17 -- The initial state\n",
        "18-35 -- The goal state\n",
        "\n",
        "Now, we need to construct our X and Y matrices.\n",
        "\n",
        "Luckily, *slicing* is very easy to do with numpy arrays.  *Slicing* is where we can easily specify how to take subsets of our matrix.  Think of it like indexing into an array, only we can do a lot of them at once.\n",
        "\n",
        "\n",
        "The general syntax is:\n",
        "\n",
        "`vector[a:b]`\n",
        "`matrix[a:b,c:d]` \n",
        "`tensor[a:b,c:d,e:f]`\n",
        "\n",
        "As a note, `a, b, c, d, e, f` are the indices you wish to get -- if `a` is blank it will start from the beginning and if `b` is blank it will go until the end.  Note: these can also be negative, which can be thought of as `n` away from the end.\n",
        "\n",
        "Some examples:\n",
        "\n",
        "`data[:,0]` -- Get all of the members of the first column \n",
        "`data[:,-1]` -- Get all of the members of the last column\n",
        "`data[:a,1:]` -- Get the first `a` rows for the 2nd to last columns\n",
        "`data[a:,1:]` -- Get all of the rows starting at `a` for the 2nd to last columns\n",
        "\n",
        "As a note, you can get the dimensions of a numpy array by accessing `.shape`, a tuple of the dimensions"
      ]
    },
    {
      "cell_type": "markdown",
      "metadata": {
        "id": "nDbA5TujtMPi"
      },
      "source": [
        "#Step 1 -- Set up Matrics  (15 pts)\n",
        "* Let the first N*validation_split rows be for the validation set \n",
        "* and the last N*(1-validation_split) rows be the training data\n",
        "* At the end of this, you should have:\n",
        "    \n",
        "    `Y.shape = (21000, 1)`\n",
        "\n",
        "    `X.shape = (21000, 34)`\n",
        "\n",
        "    `Y_validation.shape = (9000, 1)`\n",
        "\n",
        "    `X_validation.shape = (9000, 34)`"
      ]
    },
    {
      "cell_type": "code",
      "metadata": {
        "id": "tZ27xt85stdY",
        "colab": {
          "base_uri": "https://localhost:8080/"
        },
        "outputId": "93e4153a-053d-494c-8964-4a07de9ac445"
      },
      "source": [
        "#We want to use a training/validation split to verify we are doing a good job\n",
        "validation_split = 0.3\n",
        "\n",
        "\n",
        "#TODO slice the data into the correct matrices for training and validation splits \n",
        "#Let the first N*validation_split rows be for the validation set \n",
        "#and the last N*(1-validation_split) rows be the training data\n",
        "\n",
        "Y = data[int(data.shape[0] * validation_split):, 0:1]\n",
        "Y_validation = data[0:int(data.shape[0] * validation_split), 0:1]\n",
        "\n",
        "X = data[int(data.shape[0] * validation_split):, 1:]\n",
        "X_validation = data[0:int(data.shape[0] * validation_split), 1:]\n",
        "\n",
        "print(Y.shape)\n",
        "print(X.shape)\n",
        "print(Y_validation.shape)\n",
        "print(X_validation.shape)"
      ],
      "execution_count": null,
      "outputs": [
        {
          "output_type": "stream",
          "text": [
            "(21000, 1)\n",
            "(21000, 34)\n",
            "(9000, 1)\n",
            "(9000, 34)\n"
          ],
          "name": "stdout"
        }
      ]
    },
    {
      "cell_type": "markdown",
      "metadata": {
        "id": "a7Vgb6pUstda"
      },
      "source": [
        "Now we will use Least Squares Regression to estimate the time cost associated with a given state and end state.  \n",
        "\n",
        "The least squares regression coefficients can be calculated via the closed form solution:\n",
        "\n",
        "$\\beta =  (X^T X)^{-1} X^T Y$\n",
        "\n",
        "First try it out with using `np.dot` (anywhere there is a matrix multiplication) and `np.inv` (anywhere there is a matrix inversion. (as a note, matrix transposition is accomplished with `.T`)\n",
        "\n",
        "Next, compare using `np.linalg.lstsq` -- numpy's built in least squares regression (that is much more stable than using the matrix inversion found here)."
      ]
    },
    {
      "cell_type": "markdown",
      "metadata": {
        "id": "L0hgr3gquF-0"
      },
      "source": [
        "#Step 2 -- Perform Linear Regressions (10 pts)\n",
        "* Write your own version of linear regression using the closed from solution discussed above\n",
        "* Use the supplied least squares regression that is part of numpy's linear algebra library\n",
        "* Compare the two\n"
      ]
    },
    {
      "cell_type": "code",
      "metadata": {
        "id": "-7GbcxsGstdb",
        "colab": {
          "base_uri": "https://localhost:8080/"
        },
        "outputId": "f5a17612-ea22-45a0-b712-a37df95fdc34"
      },
      "source": [
        "#Least Squares Estimation Goes Here\n",
        "\n",
        "\n",
        "#TODO replace the np.zeros() with the correct code\n",
        "\n",
        "def calculate_weights_with_linear_algebra(X: np.array, Y: np.array) -> np.array:\n",
        "    Xt_X = X.T.dot(X)               # X^T * X\n",
        "    Xt_X_inv = np.linalg.inv(Xt_X)  # (X^T * X)^-1\n",
        "    Xt_Y = X.T.dot(Y)               # X^T * Y\n",
        "    B = Xt_X_inv.dot(Xt_Y)          # ((X^T * X)^-1) * (X^T * Y)\n",
        "    return B\n",
        "\n",
        "\n",
        "def calculate_weights_with_library(X: np.array, Y: np.array) -> np.array:\n",
        "    x, residuals, rank, s = np.linalg.lstsq(X, Y)\n",
        "    return x\n",
        "\n",
        "\n",
        "B_raw = calculate_weights_with_linear_algebra(X,Y)\n",
        "B_lstsq = calculate_weights_with_library(X,Y)\n",
        "\n",
        "#This should be small, mostly in the 1e-13 to 1e-14 range\n",
        "print(B_raw-B_lstsq)"
      ],
      "execution_count": null,
      "outputs": [
        {
          "output_type": "stream",
          "text": [
            "[[ 1.52766688e-13]\n",
            " [ 4.47819559e-12]\n",
            " [-3.94684285e-14]\n",
            " [-6.81676937e-14]\n",
            " [-5.09814413e-13]\n",
            " [ 3.68594044e-14]\n",
            " [ 1.19149135e-12]\n",
            " [ 3.81250587e-13]\n",
            " [ 1.05471187e-15]\n",
            " [-2.62012634e-14]\n",
            " [-4.31599201e-15]\n",
            " [-3.01980663e-14]\n",
            " [-6.48370246e-14]\n",
            " [-1.77635684e-15]\n",
            " [ 2.75890422e-14]\n",
            " [-2.75335310e-14]\n",
            " [-3.99680289e-14]\n",
            " [ 1.62092562e-13]\n",
            " [ 5.68434189e-14]\n",
            " [ 1.24344979e-14]\n",
            " [-1.02140518e-14]\n",
            " [ 2.48689958e-14]\n",
            " [-1.42108547e-14]\n",
            " [ 2.84217094e-14]\n",
            " [-1.13686838e-13]\n",
            " [ 1.24344979e-14]\n",
            " [-2.93098879e-14]\n",
            " [ 7.10542736e-15]\n",
            " [-2.69922973e-15]\n",
            " [-8.52651283e-14]\n",
            " [ 1.19904087e-14]\n",
            " [ 3.73034936e-14]\n",
            " [-5.59552404e-14]\n",
            " [-2.39808173e-14]]\n"
          ],
          "name": "stdout"
        },
        {
          "output_type": "stream",
          "text": [
            "/usr/local/lib/python3.6/dist-packages/ipykernel_launcher.py:15: FutureWarning: `rcond` parameter will change to the default of machine precision times ``max(M, N)`` where M and N are the input matrix dimensions.\n",
            "To use the future default and silence this warning we advise to pass `rcond=None`, to keep using the old, explicitly pass `rcond=-1`.\n",
            "  from ipykernel import kernelapp as app\n"
          ],
          "name": "stderr"
        }
      ]
    },
    {
      "cell_type": "markdown",
      "metadata": {
        "id": "oijgukrZstdd"
      },
      "source": [
        "Now we want to test our coefficients and see how well we predict the answer.  To do with we will need to use the weight vector we just learned.  Use `np.dot` to calculate:\n",
        "\n",
        "$\\hat{Y} = X\\beta$\n",
        "\n",
        "We will then calculate the *residual* -- the error that remains between our true times in Y and the calculated times in Yhat.\n",
        "\n",
        "$resid = Y-\\hat{Y} $\n",
        "\n",
        "We will then use these residuals to come up with a single number that tells us how well we did.  For this, we will be using the Root Mean Squared Error (RMSE)\n",
        "\n",
        "$RMSE = \\sqrt{\\frac{1}{N} \\sum (y-\\hat{y})^2}$\n",
        "\n",
        "To do this we will use the elementwise multiplication (`a*b` not `np.dot(a,b)`), the square root (`np.sqrt`), and mean (``np.mean``) functions\n",
        "\n",
        "#Step 3 -- Inference (5 pts)         \n",
        "* Calculate the predicted values \n",
        "* Calculate the error"
      ]
    },
    {
      "cell_type": "code",
      "metadata": {
        "id": "x8gYatM5stdd",
        "colab": {
          "base_uri": "https://localhost:8080/"
        },
        "outputId": "98cfe898-5dbe-4e25-916f-4adffda16461"
      },
      "source": [
        "#TODO: Calculate Yhat, the residuals and RMSE for both the training and validation sets\n",
        "\n",
        "def calculate_yhat(X: np.array, B: np.array) -> np.array:\n",
        "    return X.dot(B)\n",
        "\n",
        "def calculate_residuals(Y: np.array, Yhat: np.array) -> np.array:\n",
        "    return Y - Yhat\n",
        "\n",
        "def calculate_rmse(residuals: np.array) -> float:\n",
        "    return np.sqrt((1 / data.shape[0]) * ((residuals) ** 2).mean())\n",
        "\n",
        "\n",
        "Yhat = calculate_yhat(X, B_raw)\n",
        "Yhat_validation = calculate_yhat(X_validation, B_raw)\n",
        "\n",
        "residuals  = calculate_residuals(Y, Yhat)\n",
        "residuals_validation  = calculate_residuals(Y_validation, Yhat_validation)\n",
        "\n",
        "rmse = calculate_rmse(residuals)\n",
        "rmse_validation = calculate_rmse(residuals_validation)\n",
        "\n",
        "print('RMSE:',rmse)\n",
        "print('RMSE Validation:',rmse_validation)\n"
      ],
      "execution_count": null,
      "outputs": [
        {
          "output_type": "stream",
          "text": [
            "RMSE: 0.2462448076185721\n",
            "RMSE Validation: 0.37508828357117036\n"
          ],
          "name": "stdout"
        }
      ]
    },
    {
      "cell_type": "code",
      "metadata": {
        "id": "qsJTSFI-stdf",
        "colab": {
          "base_uri": "https://localhost:8080/",
          "height": 265
        },
        "outputId": "97ca587b-5a3b-489d-a83f-e5abcfb5e7e8"
      },
      "source": [
        "import matplotlib.pyplot as plt\n",
        "\n",
        "#Now let's plot our points residuals\n",
        "#Often, we'd like to plot our data, but we have a 30+dimensional space, i.e. one that's hard to visualize\n",
        "plt.plot(Y,residuals,'x')\n",
        "plt.plot(Y_validation,residuals_validation,'r.')\n",
        "plt.show()\n",
        "\n"
      ],
      "execution_count": null,
      "outputs": [
        {
          "output_type": "display_data",
          "data": {
            "image/png": "[encoded data removed]",
            "text/plain": [
              "<Figure size 432x288 with 1 Axes>"
            ]
          },
          "metadata": {
            "tags": [],
            "needs_background": "light"
          }
        }
      ]
    },
    {
      "cell_type": "markdown",
      "metadata": {
        "id": "PO2bk4lJstdi"
      },
      "source": [
        "Previously, we learned a weight vector, but because we didn't have a bias term, the weight vector has to go through the origin, which might not be what we want.  Let's try it all again with a bias term this time.\n",
        "\n",
        "To add a bias term, we will add a new column to our X matrix that is full of constants.  \n",
        "\n",
        "Does it matter what constant term we choose?\n",
        "\n",
        "The simplest way to do this is to use `hstack` which takes in a list of matrices and horizontally concatenates them (i.e. adds on new columns -- there exists a `vstack` that adds new rows).  The simpleest way to construct a constant term is to use `np.ones` which takes in a list with the number of ones to make for each dimension.\n",
        "\n",
        "e.g.\n",
        "`np.ones([4,2])` will make\n",
        "\n",
        "1 1\n",
        "\n",
        "1 1 \n",
        "\n",
        "1 1\n",
        "\n",
        "1 1\n",
        "\n",
        "#Step 4 -- Add a bias term (5 pts)\n",
        "* Add a bias term to the independent data -- `X`\n",
        "* Rerun the previous code \n",
        "* Compare the new errors to the old"
      ]
    },
    {
      "cell_type": "code",
      "metadata": {
        "id": "soScpJOBstdi",
        "colab": {
          "base_uri": "https://localhost:8080/",
          "height": 370
        },
        "outputId": "084f4181-5d8e-415a-9b7f-90fbc62a0caa"
      },
      "source": [
        "#TODO construct an X matrix with a bias term. \n",
        "\n",
        "X_with_bias = np.hstack((X, np.ones((X.shape[0], 1), dtype=X.dtype)))\n",
        "X_validation_with_bias = np.hstack((X_validation, np.ones((X_validation.shape[0], 1), dtype=X_validation.dtype)))\n",
        "\n",
        "#TODO replace the np.zeros() with the correct code\n",
        "B_with_bias = calculate_weights_with_library(X_with_bias,Y)\n",
        "\n",
        "Yhat_with_bias = calculate_yhat(X_with_bias, B_with_bias)\n",
        "Yhat_validation_with_bias = calculate_yhat(X_validation_with_bias, B_with_bias)\n",
        "\n",
        "residuals_with_bias  = calculate_residuals(Y, Yhat_with_bias)\n",
        "residuals_validation_with_bias  = calculate_residuals(Y_validation, Yhat_validation_with_bias)\n",
        "\n",
        "rmse_with_bias = calculate_rmse(residuals_with_bias)\n",
        "rmse_validation_with_bias = calculate_rmse(residuals_validation_with_bias)\n",
        "\n",
        "\n",
        "print('RMSE with bias term:',rmse_with_bias)\n",
        "print('RMSE Validation with bias term:',rmse_validation_with_bias)\n",
        "\n",
        "plt.plot(Y,residuals_with_bias,'x')\n",
        "plt.plot(Y_validation,residuals_validation_with_bias,'ro')\n",
        "plt.show()\n"
      ],
      "execution_count": null,
      "outputs": [
        {
          "output_type": "stream",
          "text": [
            "/usr/local/lib/python3.6/dist-packages/ipykernel_launcher.py:15: FutureWarning: `rcond` parameter will change to the default of machine precision times ``max(M, N)`` where M and N are the input matrix dimensions.\n",
            "To use the future default and silence this warning we advise to pass `rcond=None`, to keep using the old, explicitly pass `rcond=-1`.\n",
            "  from ipykernel import kernelapp as app\n"
          ],
          "name": "stderr"
        },
        {
          "output_type": "stream",
          "text": [
            "RMSE with bias term: 0.21481494463186607\n",
            "RMSE Validation with bias term: 0.331270058103509\n"
          ],
          "name": "stdout"
        },
        {
          "output_type": "display_data",
          "data": {
            "image/png": "[encoded data removed]",
            "text/plain": [
              "<Figure size 432x288 with 1 Axes>"
            ]
          },
          "metadata": {
            "tags": [],
            "needs_background": "light"
          }
        }
      ]
    },
    {
      "cell_type": "markdown",
      "metadata": {
        "id": "-eUYTFNNstdk"
      },
      "source": [
        "Now we are going to use artificial neural networks. We are going to be using PyTorch, one of the leading deep learning libraries. \n",
        "\n",
        "NOTE: We are going to be doing this in a GPU enabled way, so be sure to make sure your runtime is set to use a GPU -- Runtime > Change Runtime Type > Hardware Accelerator = GPU\n",
        "\n",
        "\n",
        "First lets use stochastic gradient descent to train a weight vector as we did above.  \n",
        "\n",
        "PyTorch lets us do this in a number of ways, but we will be doing the easiest possible one.  We are going to construct a `Sequential` model, with a `Linear` layer as its sole argument. `Sequential` can take in an arbitrary number of arguments, where each one is a layer that will be applied in the order that it is passed in.\n",
        "\n",
        "The parameters you care about for `Linear` are:\n",
        "\n",
        "`Linear(in_features, out_features, bias=True)`\n",
        "    \n",
        "`in_features` is the dimensionality of our input space -- in this case it will be the number of columns found in our X data\n",
        "`out_features` is the dimensionality of the output space -- in this case, it will be 1 (all of our final `out_features` will always be 1, as our output is the single number we are predicting).  \n",
        "\n",
        "# Step 5 -- Artificial Neural Network (15 pts)\n",
        "* Construct a linear regression model in PyTorch"
      ]
    },
    {
      "cell_type": "code",
      "metadata": {
        "id": "aCcqAXBWstdl",
        "colab": {
          "base_uri": "https://localhost:8080/"
        },
        "outputId": "d3f9a0af-9564-4dc0-f99a-4162c881bd85"
      },
      "source": [
        "import torch\n",
        "\n",
        "\n",
        "#TODO construct the model\n",
        "# Define a neural network model as a stack of layers\n",
        "model = torch.nn.Sequential(\n",
        "    torch.nn.Linear(X.shape[1], 1, bias=True),\n",
        "    # torch.nn.Linear(X.shape[1], 1, bias=True),\n",
        "    # torch.nn.Linear(X.shape[1], 1, bias=True)\n",
        ")\n",
        "model.to('cuda')\n",
        "\n",
        "print(list(model.parameters()))"
      ],
      "execution_count": null,
      "outputs": [
        {
          "output_type": "stream",
          "text": [
            "[Parameter containing:\n",
            "tensor([[ 0.1667, -0.0020, -0.0611,  0.1199, -0.1582,  0.1382,  0.1603,  0.0677,\n",
            "         -0.1566,  0.1521,  0.1360,  0.1424,  0.1216, -0.1286, -0.0972, -0.1215,\n",
            "          0.0652, -0.1207,  0.0488,  0.1205, -0.0751, -0.0023,  0.0563,  0.1319,\n",
            "          0.1237, -0.0309, -0.0086, -0.1499, -0.1412, -0.0179,  0.0859,  0.0561,\n",
            "         -0.1216, -0.0740]], device='cuda:0', requires_grad=True), Parameter containing:\n",
            "tensor([0.0088], device='cuda:0', requires_grad=True)]\n"
          ],
          "name": "stdout"
        }
      ]
    },
    {
      "cell_type": "markdown",
      "metadata": {
        "id": "GXkzI4KNstdn"
      },
      "source": [
        "Given our model, it's now time to train it.  First we need to convert our numpy matrices into PyTorch Tensors.  \n",
        "\n",
        "Then we need to set up a couple of things --\n",
        "\n",
        "First, we need to choose which optimizer we are going to use.  For this, let's just go with simple stochastic gradient descent.  `torch.optim.SGD(model.parameters(),lr=LR)` -- you'll need to pick a learning rate.  It's usually best to pick something relatively small, like say 0.01.\n",
        "\n",
        "Then we need to choose our loss function.  If our goal is to do a regression, we should choose the loss function we chose before, i.e. Mean Square Error --  `torch.nn.MSELoss()`\n",
        "\n",
        "\n",
        "Then, we need to loop over our dataset a number of times, i.e. a number of *epochs*.  At each step of the process we need to:\n",
        "\n",
        "1. Zero the gradients from the previous epoch -- `optimizer.zero_grad()` and `model.zero_grad()`\n",
        "2. Run the model in the forward direction -- `Yhat = model.forward(Xt)`\n",
        "3. Calculate the loss between our predictions and the truth -- `loss = loss_fn(Yhat,Yt)`\n",
        "4. Calculate back propagation of the loss through the network -- `loss.backward()`\n",
        "5. Run the stochastic gradient descent and update the weights -- `optimizer.step()`\n",
        "\n",
        "Some libraries hide all of these aspects, but PyTorch makes you do them explicitly.  It results in a little more code, but allows for some very fancy models (those involving different losses being calculated independently) to be done with very little change in the code.\n",
        "\n",
        "#Step 6 -- Training Your Model (20 pts)\n",
        "* Set up your training method\n",
        "* Set up your loss function \n",
        "* Run the training process as defined above"
      ]
    },
    {
      "cell_type": "code",
      "metadata": {
        "scrolled": true,
        "id": "Xd0VrZX7stdn",
        "colab": {
          "base_uri": "https://localhost:8080/"
        },
        "outputId": "7de70ef9-1a76-4b05-81c4-0de8dad6d0de"
      },
      "source": [
        "\n",
        "# Convert our numpy arrays to torch tensors\n",
        "Xt = torch.Tensor(X).to('cuda')\n",
        "# To make Yt match the shape of Yhat, we'll need it to be a slightly different shape\n",
        "Yt = torch.Tensor(Y.reshape((len(Y), 1))).to('cuda')\n",
        "\n",
        "\n",
        "\n",
        "def train(X: torch.Tensor, Y: torch.Tensor, model: torch.nn.Module, epochs:int) -> None:\n",
        "    #TODO set the optimizer and loss functions\n",
        "    optimizer = torch.optim.SGD(model.parameters(),lr=0.01)\n",
        "\n",
        "    #TODO set the loss function\n",
        "    # We'll use mean squared error as our loss function\n",
        "    loss_fn = torch.nn.MSELoss()\n",
        "\n",
        "    for t in range(epochs):\n",
        "        #TODO do the training steps here\n",
        "        #1. zero the gradient buffers\n",
        "        #1. Clear out the \"gradient\", i.e. the old update amounts\n",
        "        optimizer.zero_grad()\n",
        "        model.zero_grad()\n",
        "        #2. Make a prediction\n",
        "        Yhat = model.forward(Xt)\n",
        "        #3. Calculate loss (the error of the residual)\n",
        "        loss = loss_fn(Yhat, Yt)\n",
        "        if t % 100 == 0:\n",
        "            print(t,loss.item())\n",
        "\n",
        "        #4. Run the loss backwards through the graph\n",
        "        loss.backward()\n",
        "        #5. Run the optimizer to update the weights\n",
        "        optimizer.step()\n",
        "train(Xt,Yt,model, 5000)"
      ],
      "execution_count": null,
      "outputs": [
        {
          "output_type": "stream",
          "text": [
            "0 9301.98046875\n",
            "100 3030.58544921875\n",
            "200 2503.88623046875\n",
            "300 2252.59619140625\n",
            "400 2092.4189453125\n",
            "500 1975.3900146484375\n",
            "600 1883.275634765625\n",
            "700 1807.9637451171875\n",
            "800 1745.20263671875\n",
            "900 1692.3746337890625\n",
            "1000 1647.6536865234375\n",
            "1100 1609.6611328125\n",
            "1200 1577.3062744140625\n",
            "1300 1549.704345703125\n",
            "1400 1526.125732421875\n",
            "1500 1505.962890625\n",
            "1600 1488.7061767578125\n",
            "1700 1473.9266357421875\n",
            "1800 1461.26123046875\n",
            "1900 1450.4027099609375\n",
            "2000 1441.089111328125\n",
            "2100 1433.097900390625\n",
            "2200 1426.2392578125\n",
            "2300 1420.35107421875\n",
            "2400 1415.294921875\n",
            "2500 1410.9521484375\n",
            "2600 1407.2216796875\n",
            "2700 1404.0166015625\n",
            "2800 1401.2623291015625\n",
            "2900 1398.895263671875\n",
            "3000 1396.8607177734375\n",
            "3100 1395.11181640625\n",
            "3200 1393.6082763671875\n",
            "3300 1392.3154296875\n",
            "3400 1391.203857421875\n",
            "3500 1390.2481689453125\n",
            "3600 1389.426025390625\n",
            "3700 1388.718994140625\n",
            "3800 1388.111083984375\n",
            "3900 1387.5880126953125\n",
            "4000 1387.1380615234375\n",
            "4100 1386.7509765625\n",
            "4200 1386.418212890625\n",
            "4300 1386.1317138671875\n",
            "4400 1385.88525390625\n",
            "4500 1385.6732177734375\n",
            "4600 1385.49072265625\n",
            "4700 1385.333740234375\n",
            "4800 1385.1986083984375\n",
            "4900 1385.08251953125\n"
          ],
          "name": "stdout"
        }
      ]
    },
    {
      "cell_type": "code",
      "metadata": {
        "id": "DgzxLrtO9GRQ"
      },
      "source": [
        ""
      ],
      "execution_count": null,
      "outputs": []
    },
    {
      "cell_type": "markdown",
      "metadata": {
        "id": "zaRNJb0nstdp"
      },
      "source": [
        "Now we want to see how it did.  We will plot the residuals (i.e. the error) for both our training set and our validation set.  It is always important to have a validation set, as it will let us see how well our model is over (or under) fitting the data."
      ]
    },
    {
      "cell_type": "code",
      "metadata": {
        "id": "OISue2Nmstdp",
        "colab": {
          "base_uri": "https://localhost:8080/",
          "height": 299
        },
        "outputId": "6b141dd1-cc51-481f-bb64-bc6e504b720b"
      },
      "source": [
        "Yhat = model.forward(Xt).cpu().data.numpy()\n",
        "\n",
        "residual  = calculate_residuals(Y, Yhat)\n",
        "\n",
        "plt.plot(Y,residual,'x')\n",
        "\n",
        "Yhat_validation = model.forward(torch.Tensor(X_validation).type(torch.FloatTensor).cuda()).cpu().data.numpy()\n",
        "\n",
        "residual_validation  = calculate_residuals(Y_validation, Yhat_validation)\n",
        "\n",
        "plt.plot(Y_validation,residual_validation,'ro')\n",
        "plt.show()\n",
        "\n",
        "\n",
        "print('RMSE:',calculate_rmse(residual))\n",
        "print('Validation RMSE:',calculate_rmse(residual_validation))\n"
      ],
      "execution_count": null,
      "outputs": [
        {
          "output_type": "display_data",
          "data": {
            "image/png": "[encoded data removed]",
            "text/plain": [
              "<Figure size 432x288 with 1 Axes>"
            ]
          },
          "metadata": {
            "tags": [],
            "needs_background": "light"
          }
        },
        {
          "output_type": "stream",
          "text": [
            "RMSE: 0.21486294181346133\n",
            "Validation RMSE: 0.33086827756569803\n"
          ],
          "name": "stdout"
        }
      ]
    },
    {
      "cell_type": "markdown",
      "metadata": {
        "id": "FFKdcYqlstdr"
      },
      "source": [
        "...And we do just about the same as we did before.\n",
        "\n",
        "Now let's try it with some hidden layers.  Instead of just 1 Linear layer, we will have multiple layers.  As with the last one, we will have to specify the in_dimensions (identical to that one).  However, instead of an out_dimension of 1, we will go to the number of hidden_units, let's say 100.  Then we will have an output layer, which will go from our hidden_units dimension to an out_dimension of 1.\n",
        "\n",
        "Again, your model summary should look similar to below (layer weights will be different)\n",
        "\n",
        "#Step 7 -- Multi Layer Neural Network (10 pts)\n",
        "* Create a neural network with 1 hidden layer (i.e. 2 layers, Input -> Hidden, Hidden -> Output)"
      ]
    },
    {
      "cell_type": "code",
      "metadata": {
        "id": "ORQMNRn2stds",
        "colab": {
          "base_uri": "https://localhost:8080/"
        },
        "outputId": "fa03f435-bc5e-4ae9-bcc7-b52c11f50ca2"
      },
      "source": [
        "hidden_units = 100\n",
        "#TODO construct the model\n",
        "# Define a neural network model as a stack of layers\n",
        "\n",
        "model = torch.nn.Sequential(\n",
        "    torch.nn.Linear(X.shape[1], hidden_units, bias=True),\n",
        "    torch.nn.Linear(hidden_units, 1, bias=True)\n",
        ")\n",
        "\n",
        "model.to('cuda')\n",
        "print(list(model.parameters()))"
      ],
      "execution_count": null,
      "outputs": [
        {
          "output_type": "stream",
          "text": [
            "[Parameter containing:\n",
            "tensor([[ 0.1201,  0.1640, -0.1251,  ..., -0.0837, -0.0998,  0.0624],\n",
            "        [-0.1443,  0.1465, -0.0794,  ..., -0.0045,  0.1681,  0.0509],\n",
            "        [ 0.1241,  0.0297,  0.0137,  ...,  0.0888,  0.1544, -0.0960],\n",
            "        ...,\n",
            "        [ 0.0631,  0.0679,  0.1622,  ..., -0.1258,  0.0522, -0.0793],\n",
            "        [-0.1420,  0.0760, -0.1102,  ..., -0.0565, -0.1210, -0.0160],\n",
            "        [-0.0731, -0.1698,  0.0282,  ..., -0.1486,  0.0768,  0.0708]],\n",
            "       device='cuda:0', requires_grad=True), Parameter containing:\n",
            "tensor([ 0.0678,  0.0473, -0.0879, -0.1534, -0.0398, -0.0961,  0.0820,  0.0428,\n",
            "        -0.0405,  0.0918, -0.1551, -0.0625,  0.1105, -0.0349,  0.0917, -0.1131,\n",
            "         0.0690, -0.1549,  0.0899, -0.0286, -0.0314, -0.0068,  0.0570,  0.1583,\n",
            "         0.0193,  0.1560, -0.0694, -0.0460,  0.1043, -0.0767, -0.0750, -0.1285,\n",
            "         0.1101, -0.1246,  0.0276,  0.0338, -0.1370, -0.0382, -0.0916, -0.0199,\n",
            "        -0.0557, -0.0819,  0.1520,  0.0594, -0.0240, -0.1343, -0.1655, -0.0497,\n",
            "         0.1121, -0.0223, -0.0816, -0.0895, -0.0468, -0.1282, -0.1516, -0.0785,\n",
            "         0.1102,  0.0527,  0.1042, -0.0651, -0.0504,  0.1001, -0.1051,  0.1364,\n",
            "        -0.1090,  0.1009, -0.0709,  0.1132,  0.1030,  0.1161,  0.0605,  0.0825,\n",
            "         0.0031,  0.1170, -0.1287, -0.1254, -0.0449,  0.0597,  0.1359,  0.1577,\n",
            "         0.0565,  0.0970, -0.0419,  0.0629, -0.1253,  0.0220,  0.0773, -0.1493,\n",
            "         0.0127,  0.1486,  0.0733, -0.1524, -0.1129, -0.0307, -0.1348,  0.0796,\n",
            "         0.1060,  0.1471, -0.0997, -0.0718], device='cuda:0',\n",
            "       requires_grad=True), Parameter containing:\n",
            "tensor([[ 0.0071,  0.0457,  0.0770, -0.0018, -0.0458, -0.0427,  0.0695,  0.0420,\n",
            "          0.0283, -0.0184,  0.0683,  0.0209,  0.0472,  0.0612,  0.0002, -0.0631,\n",
            "          0.0801,  0.0909,  0.0156, -0.0921, -0.0221,  0.0718,  0.0338,  0.0210,\n",
            "         -0.0083,  0.0929,  0.0351,  0.0532,  0.0721, -0.0709,  0.0367, -0.0138,\n",
            "          0.0339,  0.0547,  0.0546, -0.0217,  0.0103,  0.0458,  0.0049, -0.0456,\n",
            "          0.0027, -0.0210, -0.0403, -0.0878, -0.0238,  0.0397,  0.0151, -0.0160,\n",
            "          0.0794, -0.0896, -0.0965,  0.0807, -0.0989, -0.0045,  0.0508,  0.0877,\n",
            "          0.0217, -0.0485, -0.0034,  0.0420,  0.0086, -0.0412,  0.0720,  0.0322,\n",
            "         -0.0904,  0.0712, -0.0129,  0.0037,  0.0588, -0.0452,  0.0960, -0.0870,\n",
            "          0.0226, -0.0931, -0.0434,  0.0199, -0.0702, -0.0753, -0.0727, -0.0961,\n",
            "         -0.0747,  0.0543,  0.0312,  0.0015, -0.0662,  0.0396, -0.0997, -0.0680,\n",
            "         -0.0974,  0.0526,  0.0073, -0.0847, -0.0438,  0.0479,  0.0632,  0.0977,\n",
            "         -0.0923,  0.0484, -0.0198,  0.0503]], device='cuda:0',\n",
            "       requires_grad=True), Parameter containing:\n",
            "tensor([0.0135], device='cuda:0', requires_grad=True)]\n"
          ],
          "name": "stdout"
        }
      ]
    },
    {
      "cell_type": "markdown",
      "metadata": {
        "id": "LEZom1Glstdu"
      },
      "source": [
        "Copy your training code from above and let's see how well it does."
      ]
    },
    {
      "cell_type": "code",
      "metadata": {
        "scrolled": true,
        "id": "yKabh3yAstdv",
        "colab": {
          "base_uri": "https://localhost:8080/"
        },
        "outputId": "91b054f6-acbe-41c3-8ba8-a94d0f91f4db"
      },
      "source": [
        "    \n",
        "train(Xt,Yt,model, 300)"
      ],
      "execution_count": null,
      "outputs": [
        {
          "output_type": "stream",
          "text": [
            "0 9352.4267578125\n",
            "100 nan\n",
            "200 nan\n"
          ],
          "name": "stdout"
        }
      ]
    },
    {
      "cell_type": "markdown",
      "metadata": {
        "id": "L-SI1yGmstdx"
      },
      "source": [
        "Hmmmm.....that's no good. Our loss quickly explodes and goes to nan.  This is cause by our stochastic gradient descent ping-ponging back and forth.  Instead of converging it keeps overshooting more and more until it goes beyond the floating point limit.  Obviously, that isn't what we want.\n",
        "\n",
        "We can address this in one of 2 ways:\n",
        "\n",
        "1. We can shrink out learning rate to a small enough value that this no longer occurs\n",
        "2. We can clip our gradients to make sure they don't exceed a specific value\n",
        "\n",
        "We can do it the first way, but that will slow our training.  The second can be achieved by adding a step into our training process:\n",
        "\n",
        "\n",
        "1. Zero the gradients from the previous epoch -- `optimizer.zero_grad()` and `model.zero_grad()`\n",
        "2. Run the model in the forward direction -- `Yhat = model.forward(Xt)`\n",
        "3. Calculate the loss between our predictions and the truth -- `loss = loss_fn(Yhat,Yt)`\n",
        "4. Calculate back propagation of the loss through the network -- `loss.backward()`\n",
        "5. **Clip the gradients** -- `torch.nn.utils.clip_grad_norm_(model.parameters(),5)`\n",
        "6. Run the stochastic gradient descent and update the weights -- `optimizer.step()`\n",
        "\n",
        "Copy your model construction with the hidden layers from above, and then set up an optimization loop with gradient clipping.\n",
        "\n",
        "#Step 8 -- Gradient Clipping  (10 pts)\n",
        "* Modify your training method from step 6 to add in Gradient Clipping"
      ]
    },
    {
      "cell_type": "code",
      "metadata": {
        "id": "hw5nDqOMstdx",
        "colab": {
          "base_uri": "https://localhost:8080/"
        },
        "outputId": "99257bc8-4984-45c7-9879-bd3a91fc004f"
      },
      "source": [
        "\n",
        "def train_with_gradient_clipping(X: torch.Tensor, Y: torch.Tensor, model: torch.nn.Module, epochs:int) -> None:\n",
        "    #TODO set the optimizer and loss functions\n",
        "    optimizer = torch.optim.SGD(model.parameters(),lr=0.01)\n",
        "\n",
        "    #TODO set the loss function\n",
        "    # We'll use mean squared error as our loss function\n",
        "    loss_fn = torch.nn.MSELoss()\n",
        "    for t in range(epochs):\n",
        "\n",
        "        #TODO do the training steps here\n",
        "        #1. zero the gradient buffers\n",
        "        #1. Clear out the \"gradient\", i.e. the old update amounts\n",
        "        optimizer.zero_grad()\n",
        "        model.zero_grad()\n",
        "        #2. Make a prediction\n",
        "        Yhat = model.forward(Xt)\n",
        "        #3. Calculate loss (the error of the residual)\n",
        "        loss = loss_fn(Yhat,Yt)\n",
        "        if t % 100 == 0:\n",
        "            print(t,loss.item())\n",
        "\n",
        "        #4. Run the loss backwards through the graph\n",
        "        loss.backward()\n",
        "        #5. Clip the gradients\n",
        "        torch.nn.utils.clip_grad_norm_(model.parameters(),5)\n",
        "        #6. Run the optimizer to update the weights\n",
        "        optimizer.step()\n",
        "train_with_gradient_clipping(Xt,Yt,model, 5000)"
      ],
      "execution_count": null,
      "outputs": [
        {
          "output_type": "stream",
          "text": [
            "0 nan\n",
            "100 nan\n",
            "200 nan\n",
            "300 nan\n",
            "400 nan\n",
            "500 nan\n",
            "600 nan\n",
            "700 nan\n",
            "800 nan\n",
            "900 nan\n",
            "1000 nan\n",
            "1100 nan\n",
            "1200 nan\n",
            "1300 nan\n",
            "1400 nan\n",
            "1500 nan\n",
            "1600 nan\n",
            "1700 nan\n",
            "1800 nan\n",
            "1900 nan\n",
            "2000 nan\n",
            "2100 nan\n",
            "2200 nan\n",
            "2300 nan\n",
            "2400 nan\n",
            "2500 nan\n",
            "2600 nan\n",
            "2700 nan\n",
            "2800 nan\n",
            "2900 nan\n",
            "3000 nan\n",
            "3100 nan\n",
            "3200 nan\n",
            "3300 nan\n",
            "3400 nan\n",
            "3500 nan\n",
            "3600 nan\n",
            "3700 nan\n",
            "3800 nan\n",
            "3900 nan\n",
            "4000 nan\n",
            "4100 nan\n",
            "4200 nan\n",
            "4300 nan\n",
            "4400 nan\n",
            "4500 nan\n",
            "4600 nan\n",
            "4700 nan\n",
            "4800 nan\n",
            "4900 nan\n"
          ],
          "name": "stdout"
        }
      ]
    },
    {
      "cell_type": "code",
      "metadata": {
        "id": "uFL7IoDUstdz",
        "colab": {
          "base_uri": "https://localhost:8080/",
          "height": 299
        },
        "outputId": "8319ce04-9219-4794-9fac-4f31c58d1e29"
      },
      "source": [
        "Yhat = model.forward(Xt).cpu().data.numpy()\n",
        "\n",
        "residual  = calculate_residuals(Y, Yhat)\n",
        "\n",
        "plt.plot(Y,residual,'x')\n",
        "\n",
        "Yhat_validation = model.forward(torch.Tensor(X_validation).type(torch.FloatTensor).cuda()).cpu().data.numpy()\n",
        "\n",
        "residual_validation  = calculate_residuals(Y_validation, Yhat_validation)\n",
        "\n",
        "plt.plot(Y_validation,residual_validation,'ro')\n",
        "plt.show()\n",
        "\n",
        "\n",
        "print('RMSE:',calculate_rmse(residual))\n",
        "print('Validation RMSE:',calculate_rmse(residual_validation))\n"
      ],
      "execution_count": null,
      "outputs": [
        {
          "output_type": "display_data",
          "data": {
            "image/png": "[encoded data removed]",
            "text/plain": [
              "<Figure size 432x288 with 1 Axes>"
            ]
          },
          "metadata": {
            "tags": [],
            "needs_background": "light"
          }
        },
        {
          "output_type": "stream",
          "text": [
            "RMSE: nan\n",
            "Validation RMSE: nan\n"
          ],
          "name": "stdout"
        }
      ]
    },
    {
      "cell_type": "markdown",
      "metadata": {
        "id": "vT0BjAhBstd1"
      },
      "source": [
        "Wait, that looks just like it did before!  The key to neural networks comes from the non-linear activations.  No matter how many layers we add, so long as the rank of the hidden layers is $\\geq$ the rank of the original vector, the best we can do is the least squares estimation (as it is the maximum likelihood estimator for a linear regression).  If the rank is decreased, then we are doing some form of compression, akin to Principal Component Analysis.  Let's try it with a bit of nonlinearity. \n",
        "\n",
        "Let's do a single hidden layer with a non-linear activation -- we will use the Rectified Linear Unit (ReLU) as it is fast and all we really care about is ANY kind of nonlinearity (sometimes we care about our nonlinearity having a specific meaning or mapping into a specific range (0 to 1, -1 to 1, etc.).\n",
        "\n",
        "This means we should now have a Sequential model with\n",
        "\n",
        "1. A Linear layer going from our input dimension to the number of hidden units\n",
        "2. A ReLU activation layer -- `torch.nn.ReLU()`\n",
        "3. A Linear layer going from our hidden units to 1\n",
        "\n",
        "\n",
        "#Step 9 -- Create a non-linear multi layer Neural Network (10 pts)\n",
        "* Your network should be two layers like above, but should have a non-linear activation function (the ReLU) (e.g.  Input -> Hidden, ReLU, Hidden -> Output)\n"
      ]
    },
    {
      "cell_type": "code",
      "metadata": {
        "id": "wuNkOLVYstd2",
        "colab": {
          "base_uri": "https://localhost:8080/"
        },
        "outputId": "6da974e6-bf8a-4db0-e11d-b30bb3284e5e"
      },
      "source": [
        "hidden_units = 100\n",
        "#TODO construct the model\n",
        "# Define a neural network model as a stack of layers\n",
        "model = torch.nn.Sequential(\n",
        "    torch.nn.Linear(X.shape[1], hidden_units, bias=True),\n",
        "    torch.nn.ReLU(),\n",
        "    torch.nn.Linear(hidden_units, 1, bias=True)\n",
        ")\n",
        "\n",
        "\n",
        "model.to('cuda')\n",
        "print(list(model.parameters()))"
      ],
      "execution_count": null,
      "outputs": [
        {
          "output_type": "stream",
          "text": [
            "[Parameter containing:\n",
            "tensor([[-0.1337,  0.0649,  0.0238,  ..., -0.0119,  0.1617,  0.0279],\n",
            "        [ 0.0182, -0.1128,  0.1562,  ..., -0.1040,  0.1439,  0.0871],\n",
            "        [ 0.0473, -0.0523, -0.0491,  ...,  0.0188, -0.0386,  0.0003],\n",
            "        ...,\n",
            "        [-0.1505, -0.1510, -0.0879,  ..., -0.1583, -0.0279, -0.0795],\n",
            "        [-0.0580,  0.1684,  0.0853,  ...,  0.0853, -0.0659,  0.0585],\n",
            "        [-0.0529,  0.1229,  0.1358,  ...,  0.0194, -0.0857,  0.1623]],\n",
            "       device='cuda:0', requires_grad=True), Parameter containing:\n",
            "tensor([ 1.0144e-01,  1.5516e-01,  3.5186e-02, -1.3726e-01,  8.3922e-02,\n",
            "        -4.2502e-02, -7.4714e-02,  4.4967e-02,  1.3545e-01, -7.8849e-02,\n",
            "        -7.0689e-02,  1.3956e-01,  3.4858e-02, -1.2563e-01,  1.0304e-01,\n",
            "         4.1198e-02, -7.6411e-02, -1.5894e-01, -4.3684e-02,  1.0530e-01,\n",
            "        -4.9171e-02, -1.0296e-01, -9.4605e-02,  1.0421e-01, -1.3814e-01,\n",
            "        -7.1407e-02,  2.6553e-02,  1.4122e-01,  4.7492e-02,  1.0763e-01,\n",
            "         1.0261e-01, -6.5840e-02, -1.2254e-02,  1.3904e-01, -7.6902e-03,\n",
            "         2.5640e-02, -9.7458e-02, -1.2169e-01,  9.1468e-02,  5.6512e-02,\n",
            "         1.4371e-01, -1.6571e-01, -4.0222e-02,  1.7667e-02, -7.4590e-02,\n",
            "         1.0413e-01,  6.6005e-02,  4.4730e-02, -1.3016e-01, -9.2508e-02,\n",
            "         3.9842e-02, -4.4516e-02,  1.0734e-01, -5.2459e-03,  3.7828e-02,\n",
            "        -1.5569e-01,  1.3560e-01, -1.2954e-01, -1.5379e-01, -8.8318e-02,\n",
            "         1.7106e-01,  4.2740e-03, -4.1508e-02, -6.9001e-02, -5.4433e-02,\n",
            "        -9.5189e-02,  3.7111e-03, -1.9685e-02,  1.3251e-01, -7.1277e-02,\n",
            "         1.6289e-01, -3.4462e-02,  2.0891e-02,  1.1734e-01, -7.1269e-05,\n",
            "        -1.5494e-01, -1.5544e-01,  2.8946e-02, -5.5905e-02,  1.0991e-01,\n",
            "         3.6084e-02,  7.7239e-02,  1.0464e-01,  2.2912e-02, -1.3534e-01,\n",
            "        -4.1277e-02,  1.5827e-01, -1.0786e-02, -8.2632e-02,  4.1958e-02,\n",
            "        -4.0896e-02, -9.6804e-02,  2.1536e-02,  1.6502e-01,  8.6813e-02,\n",
            "        -1.3372e-01, -1.5164e-01,  5.3228e-02,  6.4359e-02, -2.3317e-03],\n",
            "       device='cuda:0', requires_grad=True), Parameter containing:\n",
            "tensor([[-0.0638,  0.0265, -0.0943,  0.0176,  0.0428, -0.0719,  0.0370,  0.0194,\n",
            "         -0.0203,  0.0538,  0.0500, -0.0665,  0.0226,  0.0840,  0.0644,  0.0221,\n",
            "          0.0863, -0.0320, -0.0761,  0.0695, -0.0016,  0.0218, -0.0800, -0.0622,\n",
            "         -0.0951,  0.0093, -0.0338,  0.0313,  0.0380,  0.0882, -0.0936, -0.0137,\n",
            "         -0.0758, -0.0245,  0.0362,  0.0966,  0.0486,  0.0539,  0.0224, -0.0771,\n",
            "          0.0670,  0.0601,  0.0102, -0.0468, -0.0542,  0.0679,  0.0161, -0.0549,\n",
            "          0.0510,  0.0315,  0.0344,  0.0604, -0.0423,  0.0409, -0.0738,  0.0621,\n",
            "         -0.0821,  0.0722, -0.0534,  0.0526,  0.0344, -0.0812,  0.0071,  0.0614,\n",
            "         -0.0170, -0.0868, -0.0770, -0.0621,  0.0920,  0.0029, -0.0928, -0.0548,\n",
            "         -0.0999,  0.0560, -0.0129,  0.0512,  0.0396, -0.0773, -0.0765, -0.0190,\n",
            "         -0.0702, -0.0903,  0.0194, -0.0007, -0.0956, -0.0316, -0.0480, -0.0294,\n",
            "          0.0312,  0.0241, -0.0527, -0.0669,  0.0293, -0.0402, -0.0873, -0.0459,\n",
            "         -0.0551,  0.0824, -0.0531,  0.0451]], device='cuda:0',\n",
            "       requires_grad=True), Parameter containing:\n",
            "tensor([-0.0189], device='cuda:0', requires_grad=True)]\n"
          ],
          "name": "stdout"
        }
      ]
    },
    {
      "cell_type": "markdown",
      "metadata": {
        "id": "PcdTiQqnstd3"
      },
      "source": [
        "Use the optimization code with the gradient clipping from above to train our new, non-linear, model.  I recommend letting it run for about 10000 epochs.\n"
      ]
    },
    {
      "cell_type": "code",
      "metadata": {
        "scrolled": true,
        "id": "WNF1QC-Fstd4",
        "colab": {
          "base_uri": "https://localhost:8080/"
        },
        "outputId": "3d4a4244-ece9-4477-e71a-6a37fb1d3628"
      },
      "source": [
        "\n",
        "train_with_gradient_clipping(Xt,Yt,model, 10000)"
      ],
      "execution_count": null,
      "outputs": [
        {
          "output_type": "stream",
          "text": [
            "0 9409.26171875\n",
            "100 6210.08251953125\n",
            "200 3807.02197265625\n",
            "300 2431.234375\n",
            "400 1687.7366943359375\n",
            "500 1168.8941650390625\n",
            "600 974.0377807617188\n",
            "700 906.2246704101562\n",
            "800 874.839111328125\n",
            "900 853.11181640625\n",
            "1000 836.1600952148438\n",
            "1100 821.0552978515625\n",
            "1200 806.9554443359375\n",
            "1300 792.8865966796875\n",
            "1400 778.2609252929688\n",
            "1500 762.9024047851562\n",
            "1600 746.7078247070312\n",
            "1700 729.3150634765625\n",
            "1800 710.496337890625\n",
            "1900 689.8029174804688\n",
            "2000 668.3060913085938\n",
            "2100 646.5574340820312\n",
            "2200 625.1729736328125\n",
            "2300 604.37841796875\n",
            "2400 584.3176879882812\n",
            "2500 565.2559204101562\n",
            "2600 547.2608642578125\n",
            "2700 530.3607788085938\n",
            "2800 514.6117553710938\n",
            "2900 500.03790283203125\n",
            "3000 486.55950927734375\n",
            "3100 474.1283874511719\n",
            "3200 462.5975036621094\n",
            "3300 451.8861999511719\n",
            "3400 441.95159912109375\n",
            "3500 432.6777038574219\n",
            "3600 424.0002746582031\n",
            "3700 415.90179443359375\n",
            "3800 408.3739013671875\n",
            "3900 401.3437194824219\n",
            "4000 394.7353820800781\n",
            "4100 388.5810852050781\n",
            "4200 382.81280517578125\n",
            "4300 377.3612365722656\n",
            "4400 372.2227478027344\n",
            "4500 367.3826599121094\n",
            "4600 362.8079833984375\n",
            "4700 358.50067138671875\n",
            "4800 354.44964599609375\n",
            "4900 350.6329040527344\n",
            "5000 347.0171813964844\n",
            "5100 343.5896301269531\n",
            "5200 340.3345031738281\n",
            "5300 337.24884033203125\n",
            "5400 334.31610107421875\n",
            "5500 331.5450134277344\n",
            "5600 328.9107971191406\n",
            "5700 326.3916931152344\n",
            "5800 324.0105285644531\n",
            "5900 321.7398986816406\n",
            "6000 319.5766296386719\n",
            "6100 317.49847412109375\n",
            "6200 315.5111999511719\n",
            "6300 313.6155090332031\n",
            "6400 311.7779846191406\n",
            "6500 309.9960632324219\n",
            "6600 308.2795715332031\n",
            "6700 306.6076965332031\n",
            "6800 304.9829406738281\n",
            "6900 303.37762451171875\n",
            "7000 301.7906188964844\n",
            "7100 300.23468017578125\n",
            "7200 298.72076416015625\n",
            "7300 297.26971435546875\n",
            "7400 295.86590576171875\n",
            "7500 294.5003662109375\n",
            "7600 293.13909912109375\n",
            "7700 291.7089538574219\n",
            "7800 290.13787841796875\n",
            "7900 288.4302978515625\n",
            "8000 286.6983642578125\n",
            "8100 285.04913330078125\n",
            "8200 283.4932556152344\n",
            "8300 282.03741455078125\n",
            "8400 280.6932678222656\n",
            "8500 279.4339599609375\n",
            "8600 278.1878662109375\n",
            "8700 276.9577331542969\n",
            "8800 275.7424621582031\n",
            "8900 274.5718994140625\n",
            "9000 273.4160461425781\n",
            "9100 272.31427001953125\n",
            "9200 271.2492370605469\n",
            "9300 270.2084045410156\n",
            "9400 269.182861328125\n",
            "9500 268.17596435546875\n",
            "9600 267.1898498535156\n",
            "9700 266.22271728515625\n",
            "9800 265.2712707519531\n",
            "9900 264.3327941894531\n"
          ],
          "name": "stdout"
        }
      ]
    },
    {
      "cell_type": "code",
      "metadata": {
        "id": "QwFn4E6bstd6",
        "colab": {
          "base_uri": "https://localhost:8080/",
          "height": 299
        },
        "outputId": "8a24fd0d-7584-4881-ffae-aff3e23299b3"
      },
      "source": [
        "Yhat = model.forward(Xt).cpu().data.numpy()\n",
        "\n",
        "residual  = calculate_residuals(Y, Yhat)\n",
        "\n",
        "plt.plot(Y,residual,'x')\n",
        "\n",
        "Yhat_validation = model.forward(torch.Tensor(X_validation).type(torch.FloatTensor).cuda()).cpu().data.numpy()\n",
        "\n",
        "residual_validation  = calculate_residuals(Y_validation, Yhat_validation)\n",
        "\n",
        "plt.plot(Y_validation,residual_validation,'ro')\n",
        "plt.show()\n",
        "\n",
        "\n",
        "print('RMSE:',calculate_rmse(residual))\n",
        "print('Validation RMSE:',calculate_rmse(residual_validation))\n"
      ],
      "execution_count": null,
      "outputs": [
        {
          "output_type": "display_data",
          "data": {
            "image/png": "[encoded data removed]",
            "text/plain": [
              "<Figure size 432x288 with 1 Axes>"
            ]
          },
          "metadata": {
            "tags": [],
            "needs_background": "light"
          }
        },
        {
          "output_type": "stream",
          "text": [
            "RMSE: 0.09370327887392924\n",
            "Validation RMSE: 0.10133446439107072\n"
          ],
          "name": "stdout"
        }
      ]
    },
    {
      "cell_type": "markdown",
      "metadata": {
        "id": "OXS4Lk8gstd8"
      },
      "source": [
        "Ah, that looks better.  Note, you are probably overfitting (it is the tendency of these techniques), you can try some form of regularization (e.g., dropout) to reduce this overfitting for extra-credit.  \n",
        "\n",
        "You can try to explore different network topologies (different numbers of layers, different activation functions) and different training techniques to see how well you can do on the validation set.\n",
        "\n",
        "Now, let's use this as a heuristic for our search.\n",
        "\n",
        "Below are the helper functions needed -- use them in your A* implementation\n",
        "\n",
        "#BONUS -- A* (15 pts)\n",
        "* Implement A* search for the MineCraft planning domain, using the above estimates as  heuristics"
      ]
    },
    {
      "cell_type": "code",
      "metadata": {
        "id": "8NpO_MlOstd8",
        "colab": {
          "base_uri": "https://localhost:8080/",
          "height": 232
        },
        "outputId": "024bb474-e9ec-4828-9db4-45026489e660"
      },
      "source": [
        "import json\n",
        "from typing import NamedTuple, Dict, Tuple, Optional, Sequence, List, Set, FrozenSet\n",
        "import array\n",
        "import heapq\n",
        "import time\n",
        "import itertools\n",
        "\n",
        "with open('Crafting.json') as f:\n",
        "    Crafting = json.load(f)\n",
        "items_by_index = list(sorted(Crafting['Items']))\n",
        "items_to_indices = {item: index for index, item in enumerate(items_by_index)}\n",
        "\n",
        "class State:\n",
        "\n",
        "    def __init__(self, items=None) :\n",
        "        if items is not None:\n",
        "            # Copying a state from an old state.\n",
        "            # This call to the array constructor creates an array of unsigned integers and initializes it from the contents of items.\n",
        "            self.items = array.array('I', items)\n",
        "        else:\n",
        "            self.items = array.array('I', [0 for item in items_by_index])\n",
        "\n",
        "    def __add__(self, other):\n",
        "        s = State(self.items)\n",
        "        # A. How do we add together the contents of two states?\n",
        "        for ii,oi in enumerate(other.items):\n",
        "            s.items[ii] += oi\n",
        "        return s\n",
        "    def __sub__(self, other):\n",
        "        s = State(self.items)\n",
        "        # A. How do we add together the contents of two states?\n",
        "        for ii,oi in enumerate(other.items):\n",
        "            s.items[ii] -= oi\n",
        "        return s\n",
        "\n",
        "    def __ge__(self, other):\n",
        "        # C. How do we know whether one state (self) contains everything that's inside of another (other)? \n",
        "        for si,oi in zip(self.items,other.items):\n",
        "            if si < oi:\n",
        "                return False\n",
        "        return True\n",
        "        \n",
        "    def __lt__(self, other):\n",
        "        return not (self >= other)\n",
        "\n",
        "    def __eq__(self, other):\n",
        "        return self.items == other.items\n",
        "\n",
        "    def __hash__(self):\n",
        "        hsh = 5381\n",
        "        for s in self.items:\n",
        "            hsh = ((hsh << 5) + hsh) + s\n",
        "        return hsh\n",
        "\n",
        "    def __str__(self):\n",
        "        out_str = []\n",
        "        for k,v  in self.to_dict().items():\n",
        "            out_str.append('{}:{}'.format(k,v))\n",
        "        return ','.join(out_str)\n",
        "\n",
        "    def to_dict(self):\n",
        "        return {items_by_index[idx]: self.items[idx]\n",
        "                for idx in range(len(self.items))}\n",
        "\n",
        "    @classmethod\n",
        "    def from_dict(cls, item_dict: Dict[str, int]) -> 'State':\n",
        "        return cls([\n",
        "            item_dict.get(item, 0) for item in items_by_index\n",
        "        ])\n",
        "    \n",
        "class Recipe(NamedTuple):\n",
        "    produces: State\n",
        "    consumes: State\n",
        "    requires: State\n",
        "    cost: int\n",
        "\n",
        "recipes: Dict[str, Recipe] = {}\n",
        "for name, rule in Crafting['Recipes'].items():\n",
        "    recipes[name] = Recipe(\n",
        "        State.from_dict(rule.get('Produces', {})),\n",
        "        State.from_dict(rule.get('Consumes', {})),\n",
        "        State.from_dict({item: 1 if req else 0\n",
        "                         for item, req in rule.get('Requires', {}).items()}),\n",
        "        rule['Time']\n",
        "    )\n",
        "    \n",
        "def preconditions_satisfied(state: State, recipe: Recipe) -> bool:\n",
        "    return state >= recipe.consumes and state >= recipe.requires\n",
        "\n",
        "def apply_effects(state: State, recipe: Recipe) -> State:\n",
        "    return state-recipe.consumes+recipe.produces"
      ],
      "execution_count": null,
      "outputs": [
        {
          "output_type": "error",
          "ename": "FileNotFoundError",
          "evalue": "ignored",
          "traceback": [
            "\u001b[0;31m---------------------------------------------------------------------------\u001b[0m",
            "\u001b[0;31mFileNotFoundError\u001b[0m                         Traceback (most recent call last)",
            "\u001b[0;32m<ipython-input-18-eba2281253c3>\u001b[0m in \u001b[0;36m<module>\u001b[0;34m()\u001b[0m\n\u001b[1;32m      6\u001b[0m \u001b[0;32mimport\u001b[0m \u001b[0mitertools\u001b[0m\u001b[0;34m\u001b[0m\u001b[0;34m\u001b[0m\u001b[0m\n\u001b[1;32m      7\u001b[0m \u001b[0;34m\u001b[0m\u001b[0m\n\u001b[0;32m----> 8\u001b[0;31m \u001b[0;32mwith\u001b[0m \u001b[0mopen\u001b[0m\u001b[0;34m(\u001b[0m\u001b[0;34m'Crafting.json'\u001b[0m\u001b[0;34m)\u001b[0m \u001b[0;32mas\u001b[0m \u001b[0mf\u001b[0m\u001b[0;34m:\u001b[0m\u001b[0;34m\u001b[0m\u001b[0;34m\u001b[0m\u001b[0m\n\u001b[0m\u001b[1;32m      9\u001b[0m     \u001b[0mCrafting\u001b[0m \u001b[0;34m=\u001b[0m \u001b[0mjson\u001b[0m\u001b[0;34m.\u001b[0m\u001b[0mload\u001b[0m\u001b[0;34m(\u001b[0m\u001b[0mf\u001b[0m\u001b[0;34m)\u001b[0m\u001b[0;34m\u001b[0m\u001b[0;34m\u001b[0m\u001b[0m\n\u001b[1;32m     10\u001b[0m \u001b[0mitems_by_index\u001b[0m \u001b[0;34m=\u001b[0m \u001b[0mlist\u001b[0m\u001b[0;34m(\u001b[0m\u001b[0msorted\u001b[0m\u001b[0;34m(\u001b[0m\u001b[0mCrafting\u001b[0m\u001b[0;34m[\u001b[0m\u001b[0;34m'Items'\u001b[0m\u001b[0;34m]\u001b[0m\u001b[0;34m)\u001b[0m\u001b[0;34m)\u001b[0m\u001b[0;34m\u001b[0m\u001b[0;34m\u001b[0m\u001b[0m\n",
            "\u001b[0;31mFileNotFoundError\u001b[0m: [Errno 2] No such file or directory: 'Crafting.json'"
          ]
        }
      ]
    },
    {
      "cell_type": "code",
      "metadata": {
        "id": "3YU6wAM9std-"
      },
      "source": [
        "import random\n",
        "\n",
        "def states_to_tensor(initial_state:State , goal_state:State) -> torch.Tensor:\n",
        "    items = ['bench','cart','coal','cobble',\n",
        "     'furnace','ingot','iron_axe',\n",
        "     'iron_pickaxe','ore','plank','rail',\n",
        "     'stick','stone_axe','stone_pickaxe',\n",
        "     'wood','wooden_axe','wooden_pickaxe']\n",
        "    data = []\n",
        "    initial_state = initial_state.to_dict()\n",
        "    goal_state = goal_state.to_dict()\n",
        "    for i in items:\n",
        "        data.append([initial_state[i]])\n",
        "    for i in items:\n",
        "        data.append([goal_state[i]])\n",
        "    return torch.Tensor(np.array(data).T)\n",
        "\n",
        "\n",
        "def get_heuristic(current_state:State , goal_state:State) -> float:\n",
        "    return model.forward(states_to_tensor(current_state,goal_state)).data.numpy()[0,0]\n",
        "\n",
        "\n",
        "pruning = [State.from_dict({'cobble':9}),\n",
        "           State.from_dict({'wood':3}),\n",
        "           State.from_dict({'plank':9}),\n",
        "           State.from_dict({'ore':2}),\n",
        "           State.from_dict({'stick':6}),\n",
        "           State.from_dict({'bench':2}),\n",
        "           State.from_dict({'furnace':2}),\n",
        "           State.from_dict({'iron_axe':2}),\n",
        "           State.from_dict({'iron_pickaxe':2}),\n",
        "           State.from_dict({'stone_axe':2}),\n",
        "           State.from_dict({'stone_pickaxe':2}),\n",
        "           State.from_dict({'wooden_axe':2}),\n",
        "           State.from_dict({'wooden_pickaxe':2}),\n",
        "           State.from_dict({'coal':2})]\n",
        "\n",
        "def prune(state:State) -> bool:\n",
        "    to_prune = False\n",
        "    for p in pruning:\n",
        "        if state >= p:\n",
        "            to_prune = True\n",
        "            break\n",
        "                        \n",
        "    return to_prune"
      ],
      "execution_count": null,
      "outputs": []
    },
    {
      "cell_type": "code",
      "metadata": {
        "id": "-J1G6nmysteA"
      },
      "source": [
        "\n",
        "#TODO implement A* search\n",
        "#It should return a tuple of the number of states visited, the time cost, \n",
        "#and the path of recipes it takes (as a list of recipe names)\n",
        "#Break the loop when you have visited max_nodes\n",
        "#I recommend using the above prune method after applying a recipe \n",
        "#but before adding a node to the open set\n",
        "\n",
        "\n",
        "def a_star(initial:State, goal:State, max_nodes:int) -> Tuple[int, int,Optional[List[str]]]:\n",
        "    pass"
      ],
      "execution_count": null,
      "outputs": []
    },
    {
      "cell_type": "code",
      "metadata": {
        "id": "r9m6j5-ysteC"
      },
      "source": [
        "\n",
        "print(a_star(State.from_dict({'wood':1}),State.from_dict({'wooden_pickaxe':1}),1000))\n",
        "print(a_star(State.from_dict({'wood':1}),State.from_dict({'iron_pickaxe':1}),20000))\n",
        "print(a_star(State.from_dict({}),State.from_dict({'rail':1}),20000))\n",
        "print(a_star(State.from_dict({}),State.from_dict({'cart':1}),20000))\n"
      ],
      "execution_count": null,
      "outputs": []
    },
    {
      "cell_type": "code",
      "metadata": {
        "id": "iVxiAHHnsteD"
      },
      "source": [
        ""
      ],
      "execution_count": null,
      "outputs": []
    }
  ]
}